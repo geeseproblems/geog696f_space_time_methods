{
 "cells": [
  {
   "cell_type": "markdown",
   "metadata": {},
   "source": [
    "## Anscombe's Quartet exercise"
   ]
  },
  {
   "cell_type": "markdown",
   "metadata": {},
   "source": [
    " For this short exercise, you'll use a dataset called [Anscombe's Quartet](https://www.tandfonline.com/doi/abs/10.1080/00031305.1973.10478966) to observe how very different datasets can have similar statistical characteristics, including their mean, variance, and especially their correlation structure. "
   ]
  },
  {
   "cell_type": "markdown",
   "metadata": {},
   "source": [
    "First, please read in the data (using your library and function of choice) from the file called `anscombes.csv`.  The dataset is has 4 columns and 44 rows.  The first column is simply an id number.  The second column identifies which dataset (I, II, III, or IV) that row belongs to, and the third and fourth columns are the x and y values for that dataset.  Each of the 4 datasets is intended to have a match set of x and y values.  In otherwords, for dataset I, there are 11 values for x and 11 values for y that go together.\n",
    "\n",
    "In the cell block below, write the necessary Python code to read in the data from the csv file.  Also the cell block you can do any post-import manipulation of the data that might help you work with them in a simpler fashion.  Remember that there could be any number of correct ways to do this. "
   ]
  },
  {
   "cell_type": "code",
   "execution_count": null,
   "metadata": {},
   "outputs": [],
   "source": [
    "# Code block for importing and manipulating, if desired, the Anscombe's Quartet data. "
   ]
  },
  {
   "cell_type": "markdown",
   "metadata": {},
   "source": [
    "I'd like you to investigate Anscombe's Quartet.  Please do the following calculations and respond to the following queries:\n",
    "\n",
    "First, calculate the mean for both each of the 4 datasets of paired $x$ and $y$ (hint: you should get 8 total mean values corresponding to 4 from the distinct sets for $x$ and another 4 for the distinct sets of $y$ - if you use a `np.mean` function, be sure you are specifying the correct `axis` to perform the calculation across the correct dimension.  "
   ]
  },
  {
   "cell_type": "code",
   "execution_count": null,
   "metadata": {},
   "outputs": [],
   "source": [
    "# calculate the mean values of each distinct sets of x and y values here"
   ]
  },
  {
   "cell_type": "markdown",
   "metadata": {},
   "source": [
    "**What do you observe about the 4 mean values for $x$? What do you observe about the 4 mean values of $y$?**\n"
   ]
  },
  {
   "cell_type": "markdown",
   "metadata": {},
   "source": [
    "\n",
    "Now, calculate the _variance_ for all the distinct sets of $x$ and $y$ (once again, you should have 8 total values when you're finished, 4 for the 4 x datasets and 4 for the 4 y datasets)"
   ]
  },
  {
   "cell_type": "code",
   "execution_count": null,
   "metadata": {},
   "outputs": [],
   "source": [
    "# calculate the variance of each distinct sets of x and y values here"
   ]
  },
  {
   "cell_type": "markdown",
   "metadata": {},
   "source": [
    "**What do you observe about the 4 variance values for $x$? What do you observe about the 4 variance values of $y$?**"
   ]
  },
  {
   "cell_type": "markdown",
   "metadata": {},
   "source": [
    "Now, calculate the **Pearson** product moment correlation for each pair of $x$ and $y$ data. Remember there are lots of ways you might do this correlation.  You do not need to calculate a significance level here:\n"
   ]
  },
  {
   "cell_type": "code",
   "execution_count": null,
   "metadata": {},
   "outputs": [],
   "source": [
    "# calculate the correlation between each paired set of x and y"
   ]
  },
  {
   "cell_type": "markdown",
   "metadata": {},
   "source": [
    "**What do you notice about the Pearson correlation coefficients for each paired x and y set?**"
   ]
  },
  {
   "cell_type": "markdown",
   "metadata": {},
   "source": [
    "Finally, use Matplotlib to plot each set of paired x and y values (e.g. the matching values from each pair of rows) in 1 panel in a 4 panel figure (e.g you'll have one figure with 4 separate panels).  Again, there are lots of ways to do this.  If you're feeling ambitious, see if you can use a loop to do this! \n"
   ]
  },
  {
   "cell_type": "code",
   "execution_count": null,
   "metadata": {},
   "outputs": [],
   "source": [
    "# code for plotting the paired sets of x and y, one panel for each paired dataset\n"
   ]
  },
  {
   "cell_type": "markdown",
   "metadata": {},
   "source": [
    " **Reflecting on what you calculated and observed above and observing now your plots, can you make a general statement about the need to be careful when evaluating correlation values?**"
   ]
  },
  {
   "cell_type": "markdown",
   "metadata": {},
   "source": [
    "If you're interested, there is a Matplotlib page specifically about [Anscombe's Quartet](https://matplotlib.org/stable/gallery/specialty_plots/anscombe.html)."
   ]
  }
 ],
 "metadata": {
  "language_info": {
   "name": "python"
  }
 },
 "nbformat": 4,
 "nbformat_minor": 2
}
