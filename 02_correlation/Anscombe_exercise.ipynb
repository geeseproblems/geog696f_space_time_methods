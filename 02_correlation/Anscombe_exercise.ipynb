{
 "cells": [
  {
   "cell_type": "markdown",
   "metadata": {},
   "source": [
    "## Anscombe's Quartet exercise"
   ]
  },
  {
   "cell_type": "markdown",
   "metadata": {},
   "source": [
    " For this short exercise, you'll use a dataset called [Anscombe's Quartet](https://www.tandfonline.com/doi/abs/10.1080/00031305.1973.10478966) to observe how very different datasets can have similar statistical characteristics, including their mean, variance, and especially their correlation structure. "
   ]
  },
  {
   "cell_type": "markdown",
   "metadata": {},
   "source": [
    "First, please read in the data (using your library and function of choice) from the file called `anscombes.csv`.  The dataset is has 4 columns and 44 rows.  The first column is simply an id number.  The second column identifies which dataset (I, II, III, or IV) that row belongs to, and the third and fourth columns are the x and y values for that dataset.  Each of the 4 datasets is intended to have a match set of x and y values.  In otherwords, for dataset I, there are 11 values for x and 11 values for y that go together.\n",
    "\n",
    "In the cell block below, write the necessary Python code to read in the data from the csv file.  Also the cell block you can do any post-import manipulation of the data that might help you work with them in a simpler fashion.  Remember that there could be any number of correct ways to do this. "
   ]
  },
  {
   "cell_type": "code",
   "execution_count": 1,
   "metadata": {},
   "outputs": [],
   "source": [
    "# Code block for importing and manipulating, if desired, the Anscombe's Quartet data. \n",
    "import pandas as pd\n",
    "data=pd.read_csv('./anscombes.csv')"
   ]
  },
  {
   "cell_type": "code",
   "execution_count": 3,
   "metadata": {},
   "outputs": [],
   "source": [
    "ds1=data[0:11]\n",
    "ds2=data[11:22]\n",
    "ds3=data[22:33]\n",
    "ds4=data[33:44]"
   ]
  },
  {
   "cell_type": "markdown",
   "metadata": {},
   "source": [
    "I'd like you to investigate Anscombe's Quartet.  Please do the following calculations and respond to the following queries:\n",
    "\n",
    "First, calculate the mean for both each of the 4 datasets of paired $x$ and $y$ (hint: you should get 8 total mean values corresponding to 4 from the distinct sets for $x$ and another 4 for the distinct sets of $y$ - if you use a `np.mean` function, be sure you are specifying the correct `axis` to perform the calculation across the correct dimension.  "
   ]
  },
  {
   "cell_type": "code",
   "execution_count": 6,
   "metadata": {},
   "outputs": [
    {
     "data": {
      "text/html": [
       "<div>\n",
       "<style scoped>\n",
       "    .dataframe tbody tr th:only-of-type {\n",
       "        vertical-align: middle;\n",
       "    }\n",
       "\n",
       "    .dataframe tbody tr th {\n",
       "        vertical-align: top;\n",
       "    }\n",
       "\n",
       "    .dataframe thead th {\n",
       "        text-align: right;\n",
       "    }\n",
       "</style>\n",
       "<table border=\"1\" class=\"dataframe\">\n",
       "  <thead>\n",
       "    <tr style=\"text-align: right;\">\n",
       "      <th></th>\n",
       "      <th>id</th>\n",
       "      <th>dataset</th>\n",
       "      <th>x</th>\n",
       "      <th>y</th>\n",
       "    </tr>\n",
       "  </thead>\n",
       "  <tbody>\n",
       "    <tr>\n",
       "      <th>0</th>\n",
       "      <td>0</td>\n",
       "      <td>I</td>\n",
       "      <td>10.0</td>\n",
       "      <td>8.04</td>\n",
       "    </tr>\n",
       "    <tr>\n",
       "      <th>1</th>\n",
       "      <td>1</td>\n",
       "      <td>I</td>\n",
       "      <td>8.0</td>\n",
       "      <td>6.95</td>\n",
       "    </tr>\n",
       "    <tr>\n",
       "      <th>2</th>\n",
       "      <td>2</td>\n",
       "      <td>I</td>\n",
       "      <td>13.0</td>\n",
       "      <td>7.58</td>\n",
       "    </tr>\n",
       "    <tr>\n",
       "      <th>3</th>\n",
       "      <td>3</td>\n",
       "      <td>I</td>\n",
       "      <td>9.0</td>\n",
       "      <td>8.81</td>\n",
       "    </tr>\n",
       "    <tr>\n",
       "      <th>4</th>\n",
       "      <td>4</td>\n",
       "      <td>I</td>\n",
       "      <td>11.0</td>\n",
       "      <td>8.33</td>\n",
       "    </tr>\n",
       "    <tr>\n",
       "      <th>5</th>\n",
       "      <td>5</td>\n",
       "      <td>I</td>\n",
       "      <td>14.0</td>\n",
       "      <td>9.96</td>\n",
       "    </tr>\n",
       "    <tr>\n",
       "      <th>6</th>\n",
       "      <td>6</td>\n",
       "      <td>I</td>\n",
       "      <td>6.0</td>\n",
       "      <td>7.24</td>\n",
       "    </tr>\n",
       "    <tr>\n",
       "      <th>7</th>\n",
       "      <td>7</td>\n",
       "      <td>I</td>\n",
       "      <td>4.0</td>\n",
       "      <td>4.26</td>\n",
       "    </tr>\n",
       "    <tr>\n",
       "      <th>8</th>\n",
       "      <td>8</td>\n",
       "      <td>I</td>\n",
       "      <td>12.0</td>\n",
       "      <td>10.84</td>\n",
       "    </tr>\n",
       "    <tr>\n",
       "      <th>9</th>\n",
       "      <td>9</td>\n",
       "      <td>I</td>\n",
       "      <td>7.0</td>\n",
       "      <td>4.82</td>\n",
       "    </tr>\n",
       "    <tr>\n",
       "      <th>10</th>\n",
       "      <td>10</td>\n",
       "      <td>I</td>\n",
       "      <td>5.0</td>\n",
       "      <td>5.68</td>\n",
       "    </tr>\n",
       "  </tbody>\n",
       "</table>\n",
       "</div>"
      ],
      "text/plain": [
       "    id dataset     x      y\n",
       "0    0       I  10.0   8.04\n",
       "1    1       I   8.0   6.95\n",
       "2    2       I  13.0   7.58\n",
       "3    3       I   9.0   8.81\n",
       "4    4       I  11.0   8.33\n",
       "5    5       I  14.0   9.96\n",
       "6    6       I   6.0   7.24\n",
       "7    7       I   4.0   4.26\n",
       "8    8       I  12.0  10.84\n",
       "9    9       I   7.0   4.82\n",
       "10  10       I   5.0   5.68"
      ]
     },
     "execution_count": 6,
     "metadata": {},
     "output_type": "execute_result"
    }
   ],
   "source": [
    "ds1"
   ]
  },
  {
   "cell_type": "code",
   "execution_count": 8,
   "metadata": {},
   "outputs": [],
   "source": [
    "# calculate the mean values of each distinct sets of x and y values here\n",
    "import numpy as np\n",
    "x1,y1=np.mean(ds1['x']),np.mean(ds1['y'])\n",
    "x2,y2=np.mean(ds2['x']),np.mean(ds2['y'])\n",
    "x3,y3=np.mean(ds3['x']),np.mean(ds3['y'])\n",
    "x4,y4=np.mean(ds4['x']),np.mean(ds4['y'])"
   ]
  },
  {
   "cell_type": "code",
   "execution_count": 9,
   "metadata": {},
   "outputs": [
    {
     "name": "stdout",
     "output_type": "stream",
     "text": [
      "9.0 9.0 9.0 9.0 7.500909090909093 7.50090909090909 7.5 7.500909090909091\n"
     ]
    }
   ],
   "source": [
    "print(x1,x2,x3,x4,y1,y2,y3,y4)"
   ]
  },
  {
   "cell_type": "markdown",
   "metadata": {},
   "source": [
    "**What do you observe about the 4 mean values for $x$? What do you observe about the 4 mean values of $y$?**\n"
   ]
  },
  {
   "cell_type": "markdown",
   "metadata": {},
   "source": [
    "Very similar"
   ]
  },
  {
   "cell_type": "markdown",
   "metadata": {},
   "source": [
    "\n",
    "Now, calculate the _variance_ for all the distinct sets of $x$ and $y$ (once again, you should have 8 total values when you're finished, 4 for the 4 x datasets and 4 for the 4 y datasets)"
   ]
  },
  {
   "cell_type": "code",
   "execution_count": 11,
   "metadata": {},
   "outputs": [],
   "source": [
    "vx1,vy1=np.var(ds1['x'],ddof=1),np.var(ds1['y'],ddof=1)\n",
    "vx2,vy2=np.var(ds2['x'],ddof=1),np.var(ds2['y'],ddof=1)\n",
    "vx3,vy3=np.var(ds3['x'],ddof=1),np.var(ds3['y'],ddof=1)\n",
    "vx4,vy4=np.var(ds4['x'],ddof=1),np.var(ds4['y'],ddof=1)"
   ]
  },
  {
   "cell_type": "code",
   "execution_count": 12,
   "metadata": {},
   "outputs": [
    {
     "name": "stdout",
     "output_type": "stream",
     "text": [
      "11.0 11.0 11.0 11.0 4.127269090909091 4.127629090909091 4.12262 4.12324909090909\n"
     ]
    }
   ],
   "source": [
    "print(vx1,vx2,vx3,vx4,vy1,vy2,vy3,vy4)"
   ]
  },
  {
   "cell_type": "markdown",
   "metadata": {},
   "source": [
    "**What do you observe about the 4 variance values for $x$? What do you observe about the 4 variance values of $y$?**"
   ]
  },
  {
   "cell_type": "markdown",
   "metadata": {},
   "source": [
    "Very similar"
   ]
  },
  {
   "cell_type": "markdown",
   "metadata": {},
   "source": [
    "Now, calculate the **Pearson** product moment correlation for each pair of $x$ and $y$ data. Remember there are lots of ways you might do this correlation.  You do not need to calculate a significance level here:\n"
   ]
  },
  {
   "cell_type": "code",
   "execution_count": 14,
   "metadata": {},
   "outputs": [],
   "source": [
    "import scipy as sp\n",
    "from scipy.stats import pearsonr as corr\n",
    "r1=corr(ds1['x'],ds1['y'])\n",
    "r2=corr(ds2['x'],ds2['y'])\n",
    "r3=corr(ds3['x'],ds3['y'])\n",
    "r4=corr(ds4['x'],ds4['y'])"
   ]
  },
  {
   "cell_type": "code",
   "execution_count": 15,
   "metadata": {},
   "outputs": [
    {
     "name": "stdout",
     "output_type": "stream",
     "text": [
      "PearsonRResult(statistic=0.8164205163448399, pvalue=0.0021696288730787927) PearsonRResult(statistic=0.8162365060002427, pvalue=0.0021788162369108114) PearsonRResult(statistic=0.8162867394895982, pvalue=0.0021763052792280213) PearsonRResult(statistic=0.8165214368885029, pvalue=0.002164602347197214)\n"
     ]
    }
   ],
   "source": [
    "print(r1,r2,r3,r4)"
   ]
  },
  {
   "cell_type": "markdown",
   "metadata": {},
   "source": [
    "**What do you notice about the Pearson correlation coefficients for each paired x and y set?**"
   ]
  },
  {
   "cell_type": "markdown",
   "metadata": {},
   "source": [
    "Good p values, pretty strong correlation, similar values"
   ]
  },
  {
   "cell_type": "markdown",
   "metadata": {},
   "source": [
    "Finally, use Matplotlib to plot each set of paired x and y values (e.g. the matching values from each pair of rows) in 1 panel in a 4 panel figure (e.g you'll have one figure with 4 separate panels).  Again, there are lots of ways to do this.  If you're feeling ambitious, see if you can use a loop to do this! \n"
   ]
  },
  {
   "cell_type": "code",
   "execution_count": 26,
   "metadata": {},
   "outputs": [
    {
     "data": {
      "image/png": "[encoded data removed]",
      "text/plain": [
       "<Figure size 1600x400 with 4 Axes>"
      ]
     },
     "metadata": {},
     "output_type": "display_data"
    }
   ],
   "source": [
    "# code for plotting the paired sets of x and y, one panel for each paired dataset\n",
    "import matplotlib as mpl\n",
    "import matplotlib.pyplot as plt\n",
    "\n",
    "datasets=(ds1,ds2,ds3,ds4)\n",
    "\n",
    "fig, ax = plt.subplots(1, 4, figsize=(16, 4))\n",
    "\n",
    "for i,ds in enumerate(datasets):\n",
    "    ax[i].scatter(ds['x'], ds['y'])\n",
    "    ax[i].set_title(f'Anscombe DS{i+1}')\n",
    "    ax[i].set_xlim(0,20)\n",
    "    ax[i].set_ylim(0,14)\n",
    "    "
   ]
  },
  {
   "cell_type": "markdown",
   "metadata": {},
   "source": [
    " **Reflecting on what you calculated and observed above and observing now your plots, can you make a general statement about the need to be careful when evaluating correlation values?**"
   ]
  },
  {
   "cell_type": "markdown",
   "metadata": {},
   "source": [
    "Data can be very different and nonlinear or skewed and still return \"good\" correlation values and similar statistics"
   ]
  },
  {
   "cell_type": "markdown",
   "metadata": {},
   "source": [
    "If you're interested, there is a Matplotlib page specifically about [Anscombe's Quartet](https://matplotlib.org/stable/gallery/specialty_plots/anscombe.html)."
   ]
  }
 ],
 "metadata": {
  "kernelspec": {
   "display_name": "Python 3 (ipykernel)",
   "language": "python",
   "name": "python3"
  },
  "language_info": {
   "codemirror_mode": {
    "name": "ipython",
    "version": 3
   },
   "file_extension": ".py",
   "mimetype": "text/x-python",
   "name": "python",
   "nbconvert_exporter": "python",
   "pygments_lexer": "ipython3",
   "version": "3.11.5"
  }
 },
 "nbformat": 4,
 "nbformat_minor": 2
}
