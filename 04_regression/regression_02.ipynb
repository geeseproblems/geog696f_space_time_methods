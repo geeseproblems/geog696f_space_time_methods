{
 "cells": [
  {
   "cell_type": "markdown",
   "metadata": {},
   "source": [
    "# `scikit-learn` vs. `statsmodel`\n",
    "\n",
    "Both scikit-learn -- which we used last class -- and [statsmodels](https://www.statsmodels.org/stable/index.html) can do regression modeling.  Today we'll use statsmodels for our analysis.  Whereas scikit-learn is a powerful library for machine learning in general, statsmodels is a bit more focused on statistical analyses of the type you are likely to encounter for your own data.  Both libraries have their strengths, and both will work well for a variety of applications.\n",
    "\n",
    "If necessary, you can use `pip` to install statsmodels:"
   ]
  },
  {
   "cell_type": "code",
   "execution_count": 106,
   "metadata": {},
   "outputs": [],
   "source": [
    "# comment out or remove code block if you don't need this\n",
    "# !conda install statsmodels"
   ]
  },
  {
   "cell_type": "markdown",
   "metadata": {},
   "source": [
    "Let's also get Numpy and Matplotlib:"
   ]
  },
  {
   "cell_type": "code",
   "execution_count": 1,
   "metadata": {},
   "outputs": [],
   "source": [
    "import numpy as np\n",
    "import matplotlib.pyplot as plt"
   ]
  },
  {
   "cell_type": "markdown",
   "metadata": {},
   "source": [
    "statsmodels is typically imported as `sm` - if this is the very first time you've imported it or if you've just installed it, this next import step could take several seconds (don't worry). One thing to notice is that the import command isn't simply for 'statsmodels', but rather for 'statsmodels.api'.  This is different than we've done things for other libraries, and there is a description of why we might import the library this way [here](https://www.statsmodels.org/stable/api-structure.html#importpaths).  Note that you could also import directly, see [here](https://www.statsmodels.org/stable/api-structure.html#direct-import-for-programs).\n",
    "\n",
    "Let's get statsmodels now:"
   ]
  },
  {
   "cell_type": "code",
   "execution_count": 2,
   "metadata": {},
   "outputs": [
    {
     "name": "stderr",
     "output_type": "stream",
     "text": [
      "C:\\Users\\mayae\\anaconda3\\Lib\\site-packages\\pandas\\core\\arrays\\masked.py:60: UserWarning: Pandas requires version '1.3.6' or newer of 'bottleneck' (version '1.3.5' currently installed).\n",
      "  from pandas.core import (\n"
     ]
    }
   ],
   "source": [
    "import statsmodels.api as sm"
   ]
  },
  {
   "cell_type": "markdown",
   "metadata": {},
   "source": [
    "We're going to repeat the first example from Monday's lesson.  Let's create a simple synthetic set of $X$ and $Y$ data that are related to one another:"
   ]
  },
  {
   "cell_type": "code",
   "execution_count": 3,
   "metadata": {},
   "outputs": [],
   "source": [
    "# First, generate the same synthetic data\n",
    "np.random.seed(1999)  # seed for class reproducibility\n",
    "n_samples = 128\n",
    "\n",
    "# Create the independent variable X and the noise\n",
    "noise_magnitude = 0.5\n",
    "X = 2* np.random.rand(n_samples, 1)\n",
    "noise = noise_magnitude * np.random.randn(n_samples, 1)\n",
    "\n",
    "# Set the intercept and slope\n",
    "intercept = 4\n",
    "slope = 3\n",
    "\n",
    "# Create the dependent variable y\n",
    "y = intercept + (slope * X) + noise"
   ]
  },
  {
   "cell_type": "markdown",
   "metadata": {},
   "source": [
    "Statsmodels uses a different syntax than scikit-learn.  First, if we want a constant term (intercept) in our regression model, we'll need to add one to our predictor variabile, $X$.  Fortunately, statsmodels anticipates this, and comes with a built-in function to do this, [.add_constant](https://www.statsmodels.org/stable/generated/statsmodels.tools.tools.add_constant.html):"
   ]
  },
  {
   "cell_type": "code",
   "execution_count": 4,
   "metadata": {},
   "outputs": [
    {
     "name": "stdout",
     "output_type": "stream",
     "text": [
      "[[1.         1.64904035]\n",
      " [1.         1.96925352]\n",
      " [1.         1.78628903]\n",
      " [1.         0.63929383]\n",
      " [1.         1.18651341]\n",
      " [1.         0.39098463]\n",
      " [1.         1.72043352]\n",
      " [1.         1.72860103]\n",
      " [1.         0.1572357 ]\n",
      " [1.         1.43382415]\n",
      " [1.         1.45068462]\n",
      " [1.         1.47009556]\n",
      " [1.         1.589834  ]\n",
      " [1.         0.73502961]\n",
      " [1.         1.8765437 ]\n",
      " [1.         0.91297869]\n",
      " [1.         1.96287499]\n",
      " [1.         0.64557041]\n",
      " [1.         1.88260535]\n",
      " [1.         0.00496384]\n",
      " [1.         0.58447617]\n",
      " [1.         0.55781629]\n",
      " [1.         1.27475049]\n",
      " [1.         1.46251061]\n",
      " [1.         0.24613692]\n",
      " [1.         0.66702902]\n",
      " [1.         1.97269407]\n",
      " [1.         1.66901068]\n",
      " [1.         0.51556866]\n",
      " [1.         1.85190862]\n",
      " [1.         0.35154725]\n",
      " [1.         0.96412173]\n",
      " [1.         0.94472471]\n",
      " [1.         0.57969239]\n",
      " [1.         0.55170277]\n",
      " [1.         0.72969535]\n",
      " [1.         1.69598646]\n",
      " [1.         0.28829068]\n",
      " [1.         1.66057287]\n",
      " [1.         0.46382363]\n",
      " [1.         0.16712405]\n",
      " [1.         0.41720588]\n",
      " [1.         0.54875575]\n",
      " [1.         1.97886433]\n",
      " [1.         1.73691969]\n",
      " [1.         1.32419063]\n",
      " [1.         0.76713012]\n",
      " [1.         0.13285927]\n",
      " [1.         1.55047386]\n",
      " [1.         0.73170964]\n",
      " [1.         0.17131092]\n",
      " [1.         0.138589  ]\n",
      " [1.         1.5341663 ]\n",
      " [1.         1.7090588 ]\n",
      " [1.         0.88201944]\n",
      " [1.         0.34679909]\n",
      " [1.         1.28756611]\n",
      " [1.         1.91178692]\n",
      " [1.         0.03614237]\n",
      " [1.         0.62434029]\n",
      " [1.         1.87801205]\n",
      " [1.         0.54688345]\n",
      " [1.         0.81473698]\n",
      " [1.         0.52749561]\n",
      " [1.         1.39890637]\n",
      " [1.         0.04507291]\n",
      " [1.         0.9654075 ]\n",
      " [1.         1.66211686]\n",
      " [1.         1.72074378]\n",
      " [1.         1.17187397]\n",
      " [1.         1.15856162]\n",
      " [1.         0.82058328]\n",
      " [1.         0.74989753]\n",
      " [1.         1.96487186]\n",
      " [1.         1.45835419]\n",
      " [1.         1.11040556]\n",
      " [1.         1.92655578]\n",
      " [1.         0.91218343]\n",
      " [1.         1.13756866]\n",
      " [1.         1.77754154]\n",
      " [1.         1.12831801]\n",
      " [1.         1.63987138]\n",
      " [1.         0.78547515]\n",
      " [1.         1.0910448 ]\n",
      " [1.         1.93740434]\n",
      " [1.         0.32089111]\n",
      " [1.         1.6438382 ]\n",
      " [1.         0.32727036]\n",
      " [1.         0.18180519]\n",
      " [1.         1.00274472]\n",
      " [1.         1.1293615 ]\n",
      " [1.         0.56704461]\n",
      " [1.         1.48351874]\n",
      " [1.         0.84917586]\n",
      " [1.         0.5125215 ]\n",
      " [1.         1.69166644]\n",
      " [1.         0.10170456]\n",
      " [1.         0.9267173 ]\n",
      " [1.         0.55409557]\n",
      " [1.         0.41123681]\n",
      " [1.         0.88401165]\n",
      " [1.         1.55673729]\n",
      " [1.         1.68364918]\n",
      " [1.         1.25704595]\n",
      " [1.         0.19353838]\n",
      " [1.         0.15130545]\n",
      " [1.         0.42282478]\n",
      " [1.         1.48744969]\n",
      " [1.         0.68791982]\n",
      " [1.         0.83240444]\n",
      " [1.         0.43207139]\n",
      " [1.         0.50947703]\n",
      " [1.         0.02270671]\n",
      " [1.         0.96900717]\n",
      " [1.         0.90272642]\n",
      " [1.         1.27484222]\n",
      " [1.         1.43493352]\n",
      " [1.         1.98015445]\n",
      " [1.         1.94916344]\n",
      " [1.         1.1813756 ]\n",
      " [1.         0.47761747]\n",
      " [1.         1.04695238]\n",
      " [1.         1.48828445]\n",
      " [1.         1.48313936]\n",
      " [1.         0.30986476]\n",
      " [1.         1.26892907]\n",
      " [1.         0.32791522]\n",
      " [1.         0.54508677]]\n"
     ]
    }
   ],
   "source": [
    "# use statsmodels to add a constant term to our predictor\n",
    "X_with_constant = sm.add_constant(X)\n",
    "print(X_with_constant)"
   ]
  },
  {
   "cell_type": "markdown",
   "metadata": {},
   "source": [
    "You can see the left-most column in our predictor matrix is a column of ones.  This is what allows the model to find the intercept (constant) term in our regression equation. Without this, statsmodels would assume our regression has an intercept of zero.\n",
    "\n",
    "We can now fit our model.  Note that, unlike scikit-learn, the regression model is first called directly like a function (e.g we don't 'declare' the model first, we go right to passing the variables to the code).  [Here](https://www.statsmodels.org/dev/generated/statsmodels.regression.linear_model.OLS.html) is the documentation for the OLS model."
   ]
  },
  {
   "cell_type": "code",
   "execution_count": 5,
   "metadata": {},
   "outputs": [
    {
     "data": {
      "text/plain": [
       "statsmodels.regression.linear_model.OLS"
      ]
     },
     "execution_count": 5,
     "metadata": {},
     "output_type": "execute_result"
    }
   ],
   "source": [
    "# Fit the model using statsmodels OLS\n",
    "model = sm.OLS(y, X_with_constant)\n",
    "type(model) # model is a statsmodel linear model OLS object"
   ]
  },
  {
   "cell_type": "markdown",
   "metadata": {},
   "source": [
    "Since `model` is an object now, we see the results by operating on `model` as an object:"
   ]
  },
  {
   "cell_type": "code",
   "execution_count": 6,
   "metadata": {},
   "outputs": [],
   "source": [
    "results = model.fit()"
   ]
  },
  {
   "cell_type": "markdown",
   "metadata": {},
   "source": [
    "`results` is now an object too, and we can see the output from the regression model by using the `.summary` operation:"
   ]
  },
  {
   "cell_type": "code",
   "execution_count": 7,
   "metadata": {},
   "outputs": [
    {
     "data": {
      "text/html": [
       "<table class=\"simpletable\">\n",
       "<caption>OLS Regression Results</caption>\n",
       "<tr>\n",
       "  <th>Dep. Variable:</th>            <td>y</td>        <th>  R-squared:         </th> <td>   0.920</td>\n",
       "</tr>\n",
       "<tr>\n",
       "  <th>Model:</th>                   <td>OLS</td>       <th>  Adj. R-squared:    </th> <td>   0.920</td>\n",
       "</tr>\n",
       "<tr>\n",
       "  <th>Method:</th>             <td>Least Squares</td>  <th>  F-statistic:       </th> <td>   1454.</td>\n",
       "</tr>\n",
       "<tr>\n",
       "  <th>Date:</th>             <td>Wed, 25 Sep 2024</td> <th>  Prob (F-statistic):</th> <td>4.67e-71</td>\n",
       "</tr>\n",
       "<tr>\n",
       "  <th>Time:</th>                 <td>12:44:46</td>     <th>  Log-Likelihood:    </th> <td> -96.091</td>\n",
       "</tr>\n",
       "<tr>\n",
       "  <th>No. Observations:</th>      <td>   128</td>      <th>  AIC:               </th> <td>   196.2</td>\n",
       "</tr>\n",
       "<tr>\n",
       "  <th>Df Residuals:</th>          <td>   126</td>      <th>  BIC:               </th> <td>   201.9</td>\n",
       "</tr>\n",
       "<tr>\n",
       "  <th>Df Model:</th>              <td>     1</td>      <th>                     </th>     <td> </td>   \n",
       "</tr>\n",
       "<tr>\n",
       "  <th>Covariance Type:</th>      <td>nonrobust</td>    <th>                     </th>     <td> </td>   \n",
       "</tr>\n",
       "</table>\n",
       "<table class=\"simpletable\">\n",
       "<tr>\n",
       "    <td></td>       <th>coef</th>     <th>std err</th>      <th>t</th>      <th>P>|t|</th>  <th>[0.025</th>    <th>0.975]</th>  \n",
       "</tr>\n",
       "<tr>\n",
       "  <th>const</th> <td>    4.0323</td> <td>    0.092</td> <td>   43.996</td> <td> 0.000</td> <td>    3.851</td> <td>    4.214</td>\n",
       "</tr>\n",
       "<tr>\n",
       "  <th>x1</th>    <td>    2.9607</td> <td>    0.078</td> <td>   38.137</td> <td> 0.000</td> <td>    2.807</td> <td>    3.114</td>\n",
       "</tr>\n",
       "</table>\n",
       "<table class=\"simpletable\">\n",
       "<tr>\n",
       "  <th>Omnibus:</th>       <td> 1.497</td> <th>  Durbin-Watson:     </th> <td>   2.231</td>\n",
       "</tr>\n",
       "<tr>\n",
       "  <th>Prob(Omnibus):</th> <td> 0.473</td> <th>  Jarque-Bera (JB):  </th> <td>   1.319</td>\n",
       "</tr>\n",
       "<tr>\n",
       "  <th>Skew:</th>          <td> 0.249</td> <th>  Prob(JB):          </th> <td>   0.517</td>\n",
       "</tr>\n",
       "<tr>\n",
       "  <th>Kurtosis:</th>      <td> 2.993</td> <th>  Cond. No.          </th> <td>    3.81</td>\n",
       "</tr>\n",
       "</table><br/><br/>Notes:<br/>[1] Standard Errors assume that the covariance matrix of the errors is correctly specified."
      ],
      "text/latex": [
       "\\begin{center}\n",
       "\\begin{tabular}{lclc}\n",
       "\\toprule\n",
       "\\textbf{Dep. Variable:}    &        y         & \\textbf{  R-squared:         } &     0.920   \\\\\n",
       "\\textbf{Model:}            &       OLS        & \\textbf{  Adj. R-squared:    } &     0.920   \\\\\n",
       "\\textbf{Method:}           &  Least Squares   & \\textbf{  F-statistic:       } &     1454.   \\\\\n",
       "\\textbf{Date:}             & Wed, 25 Sep 2024 & \\textbf{  Prob (F-statistic):} &  4.67e-71   \\\\\n",
       "\\textbf{Time:}             &     12:44:46     & \\textbf{  Log-Likelihood:    } &   -96.091   \\\\\n",
       "\\textbf{No. Observations:} &         128      & \\textbf{  AIC:               } &     196.2   \\\\\n",
       "\\textbf{Df Residuals:}     &         126      & \\textbf{  BIC:               } &     201.9   \\\\\n",
       "\\textbf{Df Model:}         &           1      & \\textbf{                     } &             \\\\\n",
       "\\textbf{Covariance Type:}  &    nonrobust     & \\textbf{                     } &             \\\\\n",
       "\\bottomrule\n",
       "\\end{tabular}\n",
       "\\begin{tabular}{lcccccc}\n",
       "               & \\textbf{coef} & \\textbf{std err} & \\textbf{t} & \\textbf{P$> |$t$|$} & \\textbf{[0.025} & \\textbf{0.975]}  \\\\\n",
       "\\midrule\n",
       "\\textbf{const} &       4.0323  &        0.092     &    43.996  &         0.000        &        3.851    &        4.214     \\\\\n",
       "\\textbf{x1}    &       2.9607  &        0.078     &    38.137  &         0.000        &        2.807    &        3.114     \\\\\n",
       "\\bottomrule\n",
       "\\end{tabular}\n",
       "\\begin{tabular}{lclc}\n",
       "\\textbf{Omnibus:}       &  1.497 & \\textbf{  Durbin-Watson:     } &    2.231  \\\\\n",
       "\\textbf{Prob(Omnibus):} &  0.473 & \\textbf{  Jarque-Bera (JB):  } &    1.319  \\\\\n",
       "\\textbf{Skew:}          &  0.249 & \\textbf{  Prob(JB):          } &    0.517  \\\\\n",
       "\\textbf{Kurtosis:}      &  2.993 & \\textbf{  Cond. No.          } &     3.81  \\\\\n",
       "\\bottomrule\n",
       "\\end{tabular}\n",
       "%\\caption{OLS Regression Results}\n",
       "\\end{center}\n",
       "\n",
       "Notes: \\newline\n",
       " [1] Standard Errors assume that the covariance matrix of the errors is correctly specified."
      ],
      "text/plain": [
       "<class 'statsmodels.iolib.summary.Summary'>\n",
       "\"\"\"\n",
       "                            OLS Regression Results                            \n",
       "==============================================================================\n",
       "Dep. Variable:                      y   R-squared:                       0.920\n",
       "Model:                            OLS   Adj. R-squared:                  0.920\n",
       "Method:                 Least Squares   F-statistic:                     1454.\n",
       "Date:                Wed, 25 Sep 2024   Prob (F-statistic):           4.67e-71\n",
       "Time:                        12:44:46   Log-Likelihood:                -96.091\n",
       "No. Observations:                 128   AIC:                             196.2\n",
       "Df Residuals:                     126   BIC:                             201.9\n",
       "Df Model:                           1                                         \n",
       "Covariance Type:            nonrobust                                         \n",
       "==============================================================================\n",
       "                 coef    std err          t      P>|t|      [0.025      0.975]\n",
       "------------------------------------------------------------------------------\n",
       "const          4.0323      0.092     43.996      0.000       3.851       4.214\n",
       "x1             2.9607      0.078     38.137      0.000       2.807       3.114\n",
       "==============================================================================\n",
       "Omnibus:                        1.497   Durbin-Watson:                   2.231\n",
       "Prob(Omnibus):                  0.473   Jarque-Bera (JB):                1.319\n",
       "Skew:                           0.249   Prob(JB):                        0.517\n",
       "Kurtosis:                       2.993   Cond. No.                         3.81\n",
       "==============================================================================\n",
       "\n",
       "Notes:\n",
       "[1] Standard Errors assume that the covariance matrix of the errors is correctly specified.\n",
       "\"\"\""
      ]
     },
     "execution_count": 7,
     "metadata": {},
     "output_type": "execute_result"
    }
   ],
   "source": [
    "results.summary()"
   ]
  },
  {
   "cell_type": "markdown",
   "metadata": {},
   "source": [
    "Because statsmodels is built for regression modeling (amongst other tasks), it provides rich output from the model fit results.  For instance, you can see the $R^2$ value and the adjusted $R^2$.  You also get other diagnostic statistics like the Akaike Information Criterion (AIC, https://en.wikipedia.org/wiki/Akaike_information_criterion), Bayesian information criterion (BIC, https://en.wikipedia.org/wiki/Bayesian_information_criterion), the probability (based on the F-statistic), and the Log-likelihood (a goodness-of-fit measure where a regression model with a higher log likelihood indicates a better regression model than one with a lower log likelihood value).  \n",
    "\n",
    "You can also see the coefficients of your model - the constant (intercept) term is estimated as 4.0323 (very close to the known value of 4) with a standard error of 0.092 and a very high probability of being significant.  The 95% range is also shown (3.851 and 4.214), indicating that the coefficient very likely does NOT include zero.  For 'x1' (the coefficient associate with the variable $X$), we see the estimate is 2.9607 (again, very close to the known value of 3), highly significant, and again with a 95% confidence interval that does not span zero. \n",
    "\n",
    "[This Medium post](https://medium.com/swlh/interpreting-linear-regression-through-statsmodels-summary-4796d359035a) is a reasonable good review of the outcome of the OLS regression in statsmodels.\n",
    "\n",
    "We can then use our model to predict y:\n"
   ]
  },
  {
   "cell_type": "code",
   "execution_count": 8,
   "metadata": {},
   "outputs": [],
   "source": [
    "# Predict y using our model - be sure to pass .predict the matrix with the constant term column!\n",
    "y_pred = results.predict(X_with_constant)"
   ]
  },
  {
   "cell_type": "markdown",
   "metadata": {},
   "source": [
    "To mimic the diagnostic statistics from scikit-learn, we can use the following code.  For $R^2$ and the MSE we can simply extract the value from the results summary. We then calculate RMSE by hand:"
   ]
  },
  {
   "cell_type": "code",
   "execution_count": 9,
   "metadata": {},
   "outputs": [
    {
     "name": "stdout",
     "output_type": "stream",
     "text": [
      "R2: 0.9203\n",
      "MSE: 0.2669\n",
      "RMSE: 0.5167\n"
     ]
    }
   ],
   "source": [
    "# Get the R-squared and MSE from the model and then calculate RMSE from MSE\n",
    "r_squared = results.rsquared # just pull the statistic you want from \n",
    "mse = results.mse_resid\n",
    "rmse = np.sqrt(mse)\n",
    "\n",
    "# Display those statistics\n",
    "print(f\"R2: {r_squared:.4f}\")\n",
    "print(f\"MSE: {mse:.4f}\")\n",
    "print(f\"RMSE: {rmse:.4f}\")"
   ]
  },
  {
   "cell_type": "markdown",
   "metadata": {},
   "source": [
    "If you want to see all the properties of `results` (e.g other statistics from the regression model fit), you can go [here](https://www.statsmodels.org/stable/generated/statsmodels.regression.linear_model.RegressionResults.html).  Alternatively, if you type `dir(results)` this will list all the properties (and methods) associated with the object:"
   ]
  },
  {
   "cell_type": "code",
   "execution_count": 10,
   "metadata": {
    "scrolled": true
   },
   "outputs": [
    {
     "data": {
      "text/plain": [
       "['HC0_se',\n",
       " 'HC1_se',\n",
       " 'HC2_se',\n",
       " 'HC3_se',\n",
       " '_HCCM',\n",
       " '__class__',\n",
       " '__delattr__',\n",
       " '__dict__',\n",
       " '__dir__',\n",
       " '__doc__',\n",
       " '__eq__',\n",
       " '__format__',\n",
       " '__ge__',\n",
       " '__getattribute__',\n",
       " '__getstate__',\n",
       " '__gt__',\n",
       " '__hash__',\n",
       " '__init__',\n",
       " '__init_subclass__',\n",
       " '__le__',\n",
       " '__lt__',\n",
       " '__module__',\n",
       " '__ne__',\n",
       " '__new__',\n",
       " '__reduce__',\n",
       " '__reduce_ex__',\n",
       " '__repr__',\n",
       " '__setattr__',\n",
       " '__sizeof__',\n",
       " '__str__',\n",
       " '__subclasshook__',\n",
       " '__weakref__',\n",
       " '_abat_diagonal',\n",
       " '_cache',\n",
       " '_data_attr',\n",
       " '_data_in_cache',\n",
       " '_get_robustcov_results',\n",
       " '_get_wald_nonlinear',\n",
       " '_is_nested',\n",
       " '_transform_predict_exog',\n",
       " '_use_t',\n",
       " '_wexog_singular_values',\n",
       " 'aic',\n",
       " 'bic',\n",
       " 'bse',\n",
       " 'centered_tss',\n",
       " 'compare_f_test',\n",
       " 'compare_lm_test',\n",
       " 'compare_lr_test',\n",
       " 'condition_number',\n",
       " 'conf_int',\n",
       " 'conf_int_el',\n",
       " 'cov_HC0',\n",
       " 'cov_HC1',\n",
       " 'cov_HC2',\n",
       " 'cov_HC3',\n",
       " 'cov_kwds',\n",
       " 'cov_params',\n",
       " 'cov_type',\n",
       " 'df_model',\n",
       " 'df_resid',\n",
       " 'diagn',\n",
       " 'eigenvals',\n",
       " 'el_test',\n",
       " 'ess',\n",
       " 'f_pvalue',\n",
       " 'f_test',\n",
       " 'fittedvalues',\n",
       " 'fvalue',\n",
       " 'get_influence',\n",
       " 'get_prediction',\n",
       " 'get_robustcov_results',\n",
       " 'info_criteria',\n",
       " 'initialize',\n",
       " 'k_constant',\n",
       " 'llf',\n",
       " 'load',\n",
       " 'model',\n",
       " 'mse_model',\n",
       " 'mse_resid',\n",
       " 'mse_total',\n",
       " 'nobs',\n",
       " 'normalized_cov_params',\n",
       " 'outlier_test',\n",
       " 'params',\n",
       " 'predict',\n",
       " 'pvalues',\n",
       " 'remove_data',\n",
       " 'resid',\n",
       " 'resid_pearson',\n",
       " 'rsquared',\n",
       " 'rsquared_adj',\n",
       " 'save',\n",
       " 'scale',\n",
       " 'ssr',\n",
       " 'summary',\n",
       " 'summary2',\n",
       " 't_test',\n",
       " 't_test_pairwise',\n",
       " 'tvalues',\n",
       " 'uncentered_tss',\n",
       " 'use_t',\n",
       " 'wald_test',\n",
       " 'wald_test_terms',\n",
       " 'wresid']"
      ]
     },
     "execution_count": 10,
     "metadata": {},
     "output_type": "execute_result"
    }
   ],
   "source": [
    "dir(results)"
   ]
  },
  {
   "cell_type": "markdown",
   "metadata": {},
   "source": [
    "Let's make out plot now:"
   ]
  },
  {
   "cell_type": "code",
   "execution_count": 11,
   "metadata": {},
   "outputs": [
    {
     "data": {
      "image/png": "[encoded data removed]",
      "text/plain": [
       "<Figure size 1500x500 with 3 Axes>"
      ]
     },
     "metadata": {},
     "output_type": "display_data"
    }
   ],
   "source": [
    "# Create the diagnostic plots\n",
    "plt.figure(figsize=(15, 5))\n",
    "\n",
    "# First plot: Observed vs Predicted data with regression line\n",
    "plt.subplot(1, 3, 1)\n",
    "plt.scatter(X, y, color='blue', label='Observed Data')\n",
    "plt.plot(X, y_pred, color='red', label='Predicted Data')\n",
    "plt.title('X vs y with Regression Line')\n",
    "plt.xlabel('X')\n",
    "plt.ylabel('y')\n",
    "plt.legend()\n",
    "\n",
    "# Second plot: Residuals vs X\n",
    "residuals = y.ravel() - y_pred # note that we need to flatten or `ravel` y here because statsmodels makes y_pred a singleton variable (128,), whereas y is (128,1) !\n",
    "\n",
    "plt.subplot(1, 3, 2)\n",
    "plt.scatter(X, residuals, color='lightcoral')\n",
    "plt.axhline(0, color='black', linestyle='--')\n",
    "plt.title('X vs Residuals')\n",
    "plt.xlabel('X')\n",
    "plt.ylabel('Residuals')\n",
    "\n",
    "# Third plot: Lagged residual autocorrelation\n",
    "residuals_shifted = np.roll(residuals, 1)\n",
    "\n",
    "plt.subplot(1, 3, 3)\n",
    "plt.scatter(residuals[1:], residuals_shifted[1:], color='dodgerblue')\n",
    "plt.axhline(0, color='black', linestyle='--')\n",
    "plt.title('Lag-1 Residual Autocorrelation')\n",
    "plt.ylabel('Residual(t-1)')\n",
    "plt.xlabel('Residual(t)')\n",
    "\n",
    "plt.tight_layout()\n",
    "plt.show()"
   ]
  },
  {
   "cell_type": "code",
   "execution_count": null,
   "metadata": {},
   "outputs": [],
   "source": []
  }
 ],
 "metadata": {
  "kernelspec": {
   "display_name": "Python 3 (ipykernel)",
   "language": "python",
   "name": "python3"
  },
  "language_info": {
   "codemirror_mode": {
    "name": "ipython",
    "version": 3
   },
   "file_extension": ".py",
   "mimetype": "text/x-python",
   "name": "python",
   "nbconvert_exporter": "python",
   "pygments_lexer": "ipython3",
   "version": "3.11.5"
  }
 },
 "nbformat": 4,
 "nbformat_minor": 2
}
