{
 "cells": [
  {
   "cell_type": "markdown",
   "metadata": {},
   "source": [
    "# Loops and Conditions in Python\n"
   ]
  },
  {
   "cell_type": "markdown",
   "metadata": {},
   "source": [
    "Often when programming we need to repeat an operation many times in sequence.  Perhaps we need to repeat an operation a certain number of times, perhaps we need to continue an operation until a certain condition is me, or perhaps one step in a calculation affects the subsequent step.  In this notebook we'll learn the basics of writing `if`, `for` and `while` loops and conditionals in Python."
   ]
  },
  {
   "cell_type": "markdown",
   "metadata": {},
   "source": [
    "First, let's import NumPy:"
   ]
  },
  {
   "cell_type": "code",
   "execution_count": 1,
   "metadata": {},
   "outputs": [],
   "source": [
    "import numpy as np"
   ]
  },
  {
   "cell_type": "markdown",
   "metadata": {},
   "source": [
    "## `If` loops"
   ]
  },
  {
   "cell_type": "markdown",
   "metadata": {},
   "source": [
    "A common task in programming is to check the state or value of a variable and if that check reveals certain conditions, to execute some block of code.  For instance, we can use an `if` statement to execute a line of code only if the condition in that statement is met:"
   ]
  },
  {
   "cell_type": "code",
   "execution_count": 2,
   "metadata": {},
   "outputs": [
    {
     "name": "stdout",
     "output_type": "stream",
     "text": [
      "The number is larger than the required value\n"
     ]
    }
   ],
   "source": [
    "a_number = 10\n",
    "if a_number > 0:\n",
    "    print('The number is larger than the required value')"
   ]
  },
  {
   "cell_type": "markdown",
   "metadata": {},
   "source": [
    "Note a few things.  First, that the `if` statement is followed by a colon.  Second, that the conditional (e.g. the code that executes) if indented by 4 spaces, following Python conventions.  For conditional statements and loops, the lines of code that belong together in a section of code must be indented by the same number of spaces.  There is also, unlike many languages, nothing to indicate that the conditional statement or loop has ended (e.g. no 'end' statement or curly braces)."
   ]
  },
  {
   "cell_type": "markdown",
   "metadata": {},
   "source": [
    "It's nice to be able to only run certain blocks of code when some condition is met, but it's also very common to want to do something *else* if that condition is not met. This can be accomplished by adding a new clause after the `if` statement, called the `else` block."
   ]
  },
  {
   "cell_type": "code",
   "execution_count": 3,
   "metadata": {},
   "outputs": [
    {
     "name": "stdout",
     "output_type": "stream",
     "text": [
      "the number is negative\n"
     ]
    }
   ],
   "source": [
    "a_number = -1\n",
    "if a_number >= 0:\n",
    "    print('the number is positive or zero')\n",
    "else:\n",
    "    print('the number is negative')\n"
   ]
  },
  {
   "cell_type": "markdown",
   "metadata": {},
   "source": [
    "Additionally, you can check for multiple conditions, adding additional checks using `elif` (which is a contraction of \"else if\"):"
   ]
  },
  {
   "cell_type": "code",
   "execution_count": 4,
   "metadata": {},
   "outputs": [
    {
     "name": "stdout",
     "output_type": "stream",
     "text": [
      "the number is zero\n"
     ]
    }
   ],
   "source": [
    "a_number = 0\n",
    "if a_number > 0:\n",
    "    print('the number is positive')\n",
    "elif a_number == 0:\n",
    "    print('the number is zero')\n",
    "else:\n",
    "    print('the number is negative')\n"
   ]
  },
  {
   "cell_type": "markdown",
   "metadata": {},
   "source": [
    "## `for` loops"
   ]
  },
  {
   "cell_type": "markdown",
   "metadata": {},
   "source": [
    "`for` loops are incredibly versatile and can be used to control the flow of a program in numerous ways. Let's consider a simple example of a sequential and iterative process of increasing the value of a variable over and over again:"
   ]
  },
  {
   "cell_type": "code",
   "execution_count": 5,
   "metadata": {},
   "outputs": [
    {
     "data": {
      "text/plain": [
       "45"
      ]
     },
     "execution_count": 5,
     "metadata": {},
     "output_type": "execute_result"
    }
   ],
   "source": [
    "x = 0\n",
    "x = x + 1\n",
    "x = x + 2\n",
    "x = x + 3\n",
    "x = x + 4\n",
    "x = x + 5\n",
    "x = x + 6\n",
    "x = x + 7\n",
    "x = x + 8\n",
    "x = x + 9\n",
    "x"
   ]
  },
  {
   "cell_type": "markdown",
   "metadata": {},
   "source": [
    "While is a perfectly valid way to perform this operation, it is both repetitive and impractical beyond a certain number of operations. `for` loops allow us to both iterate over a set of operations over and over again, but also to do this sequentially in ways that we can control.  \n",
    "\n",
    "We can write the same set of operations we performed above as a `for` loop.  In this `for` loop, we specify the sequence of numbers for the iterations using a list variable called `numbers` (in this case, the numbers 0 through 9).  We give the variable `x` the initial value of 0 prior to the start of the loop.  The code below, the loop starts with the `for` and then specifies a variable number that will control the loop, in this case `n`.  The `n in number` indicates that the `for` loop will sequencial step through the list of `numbers`, with `n` taking the value of those numbers, one after another.  The `for` statement is ended with a `:` and all the lines of code within the loop are indented the same number of spaces (4 spaces by Python convention):"
   ]
  },
  {
   "cell_type": "code",
   "execution_count": 6,
   "metadata": {},
   "outputs": [
    {
     "name": "stdout",
     "output_type": "stream",
     "text": [
      "On loop iteration 0 x now has the value of 0\n",
      "On loop iteration 1 x now has the value of 1\n",
      "On loop iteration 2 x now has the value of 3\n",
      "On loop iteration 3 x now has the value of 6\n",
      "On loop iteration 4 x now has the value of 10\n",
      "On loop iteration 5 x now has the value of 15\n",
      "On loop iteration 6 x now has the value of 21\n",
      "On loop iteration 7 x now has the value of 28\n",
      "On loop iteration 8 x now has the value of 36\n",
      "On loop iteration 9 x now has the value of 45\n"
     ]
    },
    {
     "data": {
      "text/plain": [
       "45"
      ]
     },
     "execution_count": 6,
     "metadata": {},
     "output_type": "execute_result"
    }
   ],
   "source": [
    "numbers = [0, 1, 2, 3, 4, 5, 6, 7, 8, 9]\n",
    "x = 0\n",
    "for n in numbers:\n",
    "    x = x + n\n",
    "    print('On loop iteration',n,'x now has the value of', x)\n",
    "x\n"
   ]
  },
  {
   "cell_type": "markdown",
   "metadata": {},
   "source": [
    "There are lots of ways we can use the `for` statement (or, specifically, what immediately follows it) to control loops.  For instance, Python provides the function `range` to create a list of integers.  We do not need to create a sequence of numbers for the loop in advance, but rather can specify the number of iterations through the loop when we call the `for` command:"
   ]
  },
  {
   "cell_type": "code",
   "execution_count": 7,
   "metadata": {},
   "outputs": [
    {
     "name": "stdout",
     "output_type": "stream",
     "text": [
      "When n equals 0 x has the value of 0\n",
      "When n equals 1 x has the value of 1\n",
      "When n equals 2 x has the value of 3\n",
      "When n equals 3 x has the value of 6\n",
      "When n equals 4 x has the value of 10\n",
      "When n equals 5 x has the value of 15\n",
      "When n equals 6 x has the value of 21\n",
      "When n equals 7 x has the value of 28\n",
      "When n equals 8 x has the value of 36\n",
      "When n equals 9 x has the value of 45\n"
     ]
    },
    {
     "data": {
      "text/plain": [
       "45"
      ]
     },
     "execution_count": 7,
     "metadata": {},
     "output_type": "execute_result"
    }
   ],
   "source": [
    "x = 0\n",
    "for n in range(10): # range(10) is the sequence of numbers 0 through 9. \n",
    "    x = x + n # could also use x+= n to do this\n",
    "    print('When n equals',n,'x has the value of', x)\n",
    "x\n"
   ]
  },
  {
   "cell_type": "markdown",
   "metadata": {},
   "source": [
    "We could also elect to loop a number of times by specifying the length of an existing array.  For instance, in the code block below, we'll create a NumPy array and then use it's length to control the number of iterations through the `for` loop:"
   ]
  },
  {
   "cell_type": "code",
   "execution_count": 8,
   "metadata": {},
   "outputs": [
    {
     "name": "stdout",
     "output_type": "stream",
     "text": [
      "Row 0  is: [0 1 2]\n",
      "Column 0  is: [0 3 6]\n",
      "Row 1  is: [3 4 5]\n",
      "Column 1  is: [1 4 7]\n",
      "Row 2  is: [6 7 8]\n",
      "Column 2  is: [2 5 8]\n"
     ]
    }
   ],
   "source": [
    "my_array = np.array([(0,1,2),(3,4,5),(6,7,8)])\n",
    "for i in range(my_array.shape[0]):\n",
    "    print('Row', i ,' is:', my_array[i,:])\n",
    "    print('Column', i ,' is:', my_array[:,i])\n"
   ]
  },
  {
   "cell_type": "markdown",
   "metadata": {},
   "source": [
    "Python also provides another tool when using `for` loops, called `enumerate`.  `enumerate` returns both a count of the current iteration (a integer) and the value of the variable at that count/position/index.  Let's create a list strings to see how this works:"
   ]
  },
  {
   "cell_type": "code",
   "execution_count": 9,
   "metadata": {},
   "outputs": [
    {
     "name": "stdout",
     "output_type": "stream",
     "text": [
      "0 a\n",
      "1 b\n",
      "2 c\n"
     ]
    }
   ],
   "source": [
    "my_strings = [\"a\", \"b\", \"c\"]\n",
    "\n",
    "for count, value in enumerate(my_strings):\n",
    "    print(count,value)"
   ]
  },
  {
   "cell_type": "markdown",
   "metadata": {},
   "source": [
    "You could also control the starting value of the count - this doesn't alter the sequence of values, but rather the count value:"
   ]
  },
  {
   "cell_type": "code",
   "execution_count": 10,
   "metadata": {},
   "outputs": [
    {
     "name": "stdout",
     "output_type": "stream",
     "text": [
      "1 a\n",
      "2 b\n",
      "3 c\n"
     ]
    }
   ],
   "source": [
    "for count, value in enumerate(my_strings,start=1): # start counting at 1\n",
    "    print(count,value)"
   ]
  },
  {
   "cell_type": "markdown",
   "metadata": {},
   "source": [
    "You could also combine `if` and `for` loops.  The `for` statement might start the lopp, while the `if` statements within the `for` loop determine which operations are actually performed:"
   ]
  },
  {
   "cell_type": "code",
   "execution_count": 11,
   "metadata": {},
   "outputs": [
    {
     "name": "stdout",
     "output_type": "stream",
     "text": [
      "The current city is Aspen, Colorado\n",
      "The middle city is Tucson, Arizona\n",
      "The current city is Palo Alto, California\n"
     ]
    }
   ],
   "source": [
    "cities = [\"Aspen, Colorado\", \"Tucson, Arizona\", \"Palo Alto, California\"]\n",
    "for index, name in enumerate(cities):\n",
    "    if index == 1:\n",
    "        print('The middle city is',name)\n",
    "    else:\n",
    "        print('The current city is',name)"
   ]
  },
  {
   "cell_type": "markdown",
   "metadata": {},
   "source": [
    "Another thing you can do with loops is to iterate over two separate lists simultaneously using the `zip` command:"
   ]
  },
  {
   "cell_type": "code",
   "execution_count": 12,
   "metadata": {},
   "outputs": [
    {
     "name": "stdout",
     "output_type": "stream",
     "text": [
      "z 4\n",
      "y 16\n",
      "x 36\n"
     ]
    }
   ],
   "source": [
    "my_letters = ['z','y','x']\n",
    "my_numbers = [4, 16, 36]\n",
    "for letter, number in zip(my_letters,my_numbers):\n",
    "    print(letter,number)\n"
   ]
  },
  {
   "cell_type": "markdown",
   "metadata": {},
   "source": [
    "### List Comprehensions"
   ]
  },
  {
   "cell_type": "markdown",
   "metadata": {},
   "source": [
    "We've seen how loops allow you to use less code to get the result of sequential and iteratable calculations.  But sometimes there is iterative calculation that is relatively simple and you can use a shorthand that Python calls a `list comprehension`, which allows you to effectively write out a conditional sequential calculation or manipulation in a single line of code.  Python understands these lines ('comprehends' them) as the equivalent of a simple loop:"
   ]
  },
  {
   "cell_type": "code",
   "execution_count": 13,
   "metadata": {},
   "outputs": [
    {
     "name": "stdout",
     "output_type": "stream",
     "text": [
      "[1, 4, 9, 16, 25]\n",
      "[1, 4, 9, 16, 25]\n",
      "[1, 4, 9, 16]\n"
     ]
    }
   ],
   "source": [
    "# syntax for list comprehension: newlist = [expression for item in iterable if condition == True]\n",
    "\n",
    "# loop example\n",
    "my_numbers = [1, 2, 3, 4, 5]\n",
    "new_numbers = [] # we'll fill this list with newly calculatd numbers\n",
    "for n in my_numbers:\n",
    "    new_numbers.append(n**2)\n",
    "print(new_numbers)\n",
    "\n",
    "# list comprehension example\n",
    "newer_numbers = [n**2 for n in my_numbers]\n",
    "print(newer_numbers)\n",
    "\n",
    "# list comprehension with additional condition\n",
    "newest_numbers = [n**2 for n in my_numbers if n<5]\n",
    "print(newest_numbers)"
   ]
  },
  {
   "cell_type": "markdown",
   "metadata": {},
   "source": [
    "## `While` loops"
   ]
  },
  {
   "cell_type": "markdown",
   "metadata": {},
   "source": [
    "`While` loops allow you to enter and exit a loop based on the (changing) value of a variable.   In that sense, they combine the conditional of the `if` loops with the iterations of the `for` loops.  `While` loops evaluate a condition on each iteration (which is a Boolean: True or False) and decide whether to continue or exit based on the condition:"
   ]
  },
  {
   "cell_type": "code",
   "execution_count": 14,
   "metadata": {},
   "outputs": [
    {
     "name": "stdout",
     "output_type": "stream",
     "text": [
      "The value of x is 0\n",
      "The value of x is 1\n",
      "The value of x is 2\n",
      "The value of x is 3\n",
      "The value of x is 4\n",
      "The value of x is 5\n",
      "The value of x is 6\n",
      "The value of x is 7\n",
      "The value of x is 8\n",
      "The value of x is 9\n"
     ]
    }
   ],
   "source": [
    "maximum_value = 10\n",
    "x = 0\n",
    "\n",
    "while x < maximum_value:\n",
    "    print('The value of x is', x)\n",
    "    x = x + 1\n",
    "    \n"
   ]
  },
  {
   "cell_type": "markdown",
   "metadata": {},
   "source": [
    "## Controlling iterations using `break` and `continue`"
   ]
  },
  {
   "cell_type": "markdown",
   "metadata": {},
   "source": [
    "So far, we've let the `if`, `for`, and `while` loops finish according to their rules (the conditional in `if`, the number of iterations in `for`, and the changing conditional in `while`), but we can also exert additional controls on loops using the `break` and `continue` in these contexts. \n",
    "\n",
    "`continue` let's you skip the remaining code in a loop and start again, which can be useful to avoid situations that might cause an error and terminate your program:"
   ]
  },
  {
   "cell_type": "code",
   "execution_count": 15,
   "metadata": {},
   "outputs": [
    {
     "name": "stdout",
     "output_type": "stream",
     "text": [
      "The result is  -0.5\n",
      "The result is  -1.0\n",
      "The result is  1.0\n",
      "The result is  0.5\n"
     ]
    }
   ],
   "source": [
    "my_numbers = [-2, -1, 0, 1, 2]\n",
    "for n in my_numbers:\n",
    "    if n==0:\n",
    "        continue # avoid dividing by zero\n",
    "    print('The result is ', 1/n)"
   ]
  },
  {
   "cell_type": "markdown",
   "metadata": {},
   "source": [
    "`break`, in contrast, allows you to exit a loop early if a condition is met:"
   ]
  },
  {
   "cell_type": "code",
   "execution_count": 16,
   "metadata": {},
   "outputs": [
    {
     "name": "stdout",
     "output_type": "stream",
     "text": [
      "Loop exited at value 1\n"
     ]
    }
   ],
   "source": [
    "for n in my_numbers:\n",
    "    if n==1:\n",
    "        break\n",
    "    \n",
    "print('Loop exited at value', n)"
   ]
  },
  {
   "cell_type": "code",
   "execution_count": null,
   "metadata": {},
   "outputs": [],
   "source": []
  }
 ],
 "metadata": {
  "kernelspec": {
   "display_name": "Python 3 (ipykernel)",
   "language": "python",
   "name": "python3"
  },
  "language_info": {
   "codemirror_mode": {
    "name": "ipython",
    "version": 3
   },
   "file_extension": ".py",
   "mimetype": "text/x-python",
   "name": "python",
   "nbconvert_exporter": "python",
   "pygments_lexer": "ipython3",
   "version": "3.11.5"
  }
 },
 "nbformat": 4,
 "nbformat_minor": 2
}
